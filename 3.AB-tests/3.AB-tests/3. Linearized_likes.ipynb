{
 "cells": [
  {
   "cell_type": "markdown",
   "id": "ef7b7cbf-2e9c-4860-bff0-b84b230e1097",
   "metadata": {},
   "source": [
    "### Задание 5.3.\n",
    "\n",
    "У нас параллельно шли два A/B-теста, оба – с 30 июня по 6 июля 2023: \n",
    "1) Первый:\n",
    "\n",
    "* exp_group = 1 - Все по-старому\n",
    "* exp_group = 2 - Рекомендации \"похожих на лайкнутые постов\"\n",
    "\n",
    "2) Второй:\n",
    "\n",
    "* exp_group = 0 – Все по-старому\n",
    "* exp_group = 3 - Рекомендации \"постов, которые лайкали похожие на вас люди\"\n",
    "\n",
    "#### Задача \n",
    "* Проанализировать тест между группами 0 и 3 по метрике линеаризованных лайков. Видно ли отличие? Стало ли 𝑝−𝑣𝑎𝑙𝑢𝑒 меньше?\n",
    "* Проанализировать тест между группами 1 и 2 по метрике линеаризованных лайков. Видно ли отличие? Стало ли 𝑝−𝑣𝑎𝑙𝑢𝑒 меньше?\n"
   ]
  },
  {
   "cell_type": "code",
   "execution_count": 1,
   "id": "0aa34c5b",
   "metadata": {},
   "outputs": [],
   "source": [
    "import numpy as np\n",
    "import seaborn as sns\n",
    "import scipy\n",
    "from matplotlib import pyplot as plt\n",
    "import pandas as pd\n",
    "from scipy import stats\n",
    "import pandahouse"
   ]
  },
  {
   "cell_type": "code",
   "execution_count": 2,
   "id": "3f90683e-d9a1-492c-8aa3-10ffb56c1c3c",
   "metadata": {},
   "outputs": [
    {
     "data": {
      "text/html": [
       "<div>\n",
       "<style scoped>\n",
       "    .dataframe tbody tr th:only-of-type {\n",
       "        vertical-align: middle;\n",
       "    }\n",
       "\n",
       "    .dataframe tbody tr th {\n",
       "        vertical-align: top;\n",
       "    }\n",
       "\n",
       "    .dataframe thead th {\n",
       "        text-align: right;\n",
       "    }\n",
       "</style>\n",
       "<table border=\"1\" class=\"dataframe\">\n",
       "  <thead>\n",
       "    <tr style=\"text-align: right;\">\n",
       "      <th></th>\n",
       "      <th>exp_group</th>\n",
       "      <th>user_id</th>\n",
       "      <th>likes</th>\n",
       "      <th>views</th>\n",
       "      <th>ctr</th>\n",
       "    </tr>\n",
       "  </thead>\n",
       "  <tbody>\n",
       "    <tr>\n",
       "      <th>0</th>\n",
       "      <td>1</td>\n",
       "      <td>18392</td>\n",
       "      <td>7</td>\n",
       "      <td>32</td>\n",
       "      <td>0.218750</td>\n",
       "    </tr>\n",
       "    <tr>\n",
       "      <th>1</th>\n",
       "      <td>3</td>\n",
       "      <td>115383</td>\n",
       "      <td>12</td>\n",
       "      <td>44</td>\n",
       "      <td>0.272727</td>\n",
       "    </tr>\n",
       "    <tr>\n",
       "      <th>2</th>\n",
       "      <td>3</td>\n",
       "      <td>123580</td>\n",
       "      <td>2</td>\n",
       "      <td>11</td>\n",
       "      <td>0.181818</td>\n",
       "    </tr>\n",
       "    <tr>\n",
       "      <th>3</th>\n",
       "      <td>2</td>\n",
       "      <td>131473</td>\n",
       "      <td>9</td>\n",
       "      <td>108</td>\n",
       "      <td>0.083333</td>\n",
       "    </tr>\n",
       "    <tr>\n",
       "      <th>4</th>\n",
       "      <td>4</td>\n",
       "      <td>107323</td>\n",
       "      <td>5</td>\n",
       "      <td>31</td>\n",
       "      <td>0.161290</td>\n",
       "    </tr>\n",
       "  </tbody>\n",
       "</table>\n",
       "</div>"
      ],
      "text/plain": [
       "   exp_group  user_id  likes  views       ctr\n",
       "0          1    18392      7     32  0.218750\n",
       "1          3   115383     12     44  0.272727\n",
       "2          3   123580      2     11  0.181818\n",
       "3          2   131473      9    108  0.083333\n",
       "4          4   107323      5     31  0.161290"
      ]
     },
     "execution_count": 2,
     "metadata": {},
     "output_type": "execute_result"
    }
   ],
   "source": [
    "# Загружаем данные о количестве просмотров и лайков полизователей из 2 и 1 экспериментальной группы за период с 30 июня по 6 июля, считаем их CTR\n",
    "connection = {'host': 'https://clickhouse.lab.karpov.courses',\n",
    "                      'database':'******',\n",
    "                      'user':'student', \n",
    "                      'password':'******'\n",
    "                     }\n",
    "\n",
    "\n",
    "query = \"\"\"\n",
    "    SELECT exp_group, \n",
    "        user_id,\n",
    "        sum(action = 'like') as likes,\n",
    "        sum(action = 'view') as views,\n",
    "        likes/views as ctr\n",
    "    FROM {db}.feed_actions \n",
    "    WHERE toDate(time) between '2023-06-30' and '2023-07-06'\n",
    "    GROUP BY exp_group, user_id\n",
    "\"\"\"\n",
    "\n",
    "df = pandahouse.read_clickhouse(query, connection=connection)\n",
    "\n",
    "df.head()"
   ]
  },
  {
   "cell_type": "code",
   "execution_count": 3,
   "id": "fe4a4d7a-03a7-44bc-bed8-4770e51f8dea",
   "metadata": {},
   "outputs": [],
   "source": [
    "# разделим датасет на 2 по количеству A/B-тестов\n",
    "test1 = df[(df['exp_group'] == 1)|(df['exp_group'] == 2)].reset_index()\n",
    "test2 = df[(df['exp_group'] == 0)|(df['exp_group'] == 3)].reset_index()"
   ]
  },
  {
   "cell_type": "markdown",
   "id": "1c776419-4e3f-4abb-9c95-942ea524987b",
   "metadata": {},
   "source": [
    "****\n",
    "\n",
    "#### Проанализируем первый тест (группы 1 и 2) по метрике линеаризированных лайков "
   ]
  },
  {
   "cell_type": "code",
   "execution_count": 4,
   "id": "109abfc4-9543-476c-9546-ef4e3a33c77a",
   "metadata": {},
   "outputs": [
    {
     "data": {
      "text/plain": [
       "1    10020\n",
       "2     9877\n",
       "Name: exp_group, dtype: int64"
      ]
     },
     "execution_count": 4,
     "metadata": {},
     "output_type": "execute_result"
    }
   ],
   "source": [
    "# Посмотрим на количество пользователей в группах\n",
    "test1.exp_group.value_counts()"
   ]
  },
  {
   "cell_type": "code",
   "execution_count": 5,
   "id": "1f5761cf-adf6-407a-91db-d6e4d29dd6e7",
   "metadata": {},
   "outputs": [
    {
     "data": {
      "text/plain": [
       "0.2096041628394293"
      ]
     },
     "execution_count": 5,
     "metadata": {},
     "output_type": "execute_result"
    }
   ],
   "source": [
    "# Посчитаем глобальный CTR контрольной группы теста №1 (exp_group = 1)\n",
    "ctr_control1 = test1[test1['exp_group'] == 1].likes.sum()/test1[test1['exp_group'] == 1].views.sum()\n",
    "ctr_control1"
   ]
  },
  {
   "cell_type": "code",
   "execution_count": 6,
   "id": "895b6369-1968-4d69-adb3-3280a681ba3a",
   "metadata": {},
   "outputs": [
    {
     "data": {
      "text/html": [
       "<div>\n",
       "<style scoped>\n",
       "    .dataframe tbody tr th:only-of-type {\n",
       "        vertical-align: middle;\n",
       "    }\n",
       "\n",
       "    .dataframe tbody tr th {\n",
       "        vertical-align: top;\n",
       "    }\n",
       "\n",
       "    .dataframe thead th {\n",
       "        text-align: right;\n",
       "    }\n",
       "</style>\n",
       "<table border=\"1\" class=\"dataframe\">\n",
       "  <thead>\n",
       "    <tr style=\"text-align: right;\">\n",
       "      <th></th>\n",
       "      <th>index</th>\n",
       "      <th>exp_group</th>\n",
       "      <th>user_id</th>\n",
       "      <th>likes</th>\n",
       "      <th>views</th>\n",
       "      <th>ctr</th>\n",
       "      <th>linearized_likes</th>\n",
       "    </tr>\n",
       "  </thead>\n",
       "  <tbody>\n",
       "    <tr>\n",
       "      <th>0</th>\n",
       "      <td>0</td>\n",
       "      <td>1</td>\n",
       "      <td>18392</td>\n",
       "      <td>7</td>\n",
       "      <td>32</td>\n",
       "      <td>0.218750</td>\n",
       "      <td>0.292667</td>\n",
       "    </tr>\n",
       "    <tr>\n",
       "      <th>1</th>\n",
       "      <td>3</td>\n",
       "      <td>2</td>\n",
       "      <td>131473</td>\n",
       "      <td>9</td>\n",
       "      <td>108</td>\n",
       "      <td>0.083333</td>\n",
       "      <td>-13.637250</td>\n",
       "    </tr>\n",
       "    <tr>\n",
       "      <th>2</th>\n",
       "      <td>5</td>\n",
       "      <td>2</td>\n",
       "      <td>32420</td>\n",
       "      <td>13</td>\n",
       "      <td>44</td>\n",
       "      <td>0.295455</td>\n",
       "      <td>3.777417</td>\n",
       "    </tr>\n",
       "    <tr>\n",
       "      <th>3</th>\n",
       "      <td>6</td>\n",
       "      <td>2</td>\n",
       "      <td>24239</td>\n",
       "      <td>40</td>\n",
       "      <td>90</td>\n",
       "      <td>0.444444</td>\n",
       "      <td>21.135625</td>\n",
       "    </tr>\n",
       "    <tr>\n",
       "      <th>4</th>\n",
       "      <td>8</td>\n",
       "      <td>1</td>\n",
       "      <td>27443</td>\n",
       "      <td>22</td>\n",
       "      <td>109</td>\n",
       "      <td>0.201835</td>\n",
       "      <td>-0.846854</td>\n",
       "    </tr>\n",
       "    <tr>\n",
       "      <th>...</th>\n",
       "      <td>...</td>\n",
       "      <td>...</td>\n",
       "      <td>...</td>\n",
       "      <td>...</td>\n",
       "      <td>...</td>\n",
       "      <td>...</td>\n",
       "      <td>...</td>\n",
       "    </tr>\n",
       "    <tr>\n",
       "      <th>19892</th>\n",
       "      <td>49802</td>\n",
       "      <td>1</td>\n",
       "      <td>21697</td>\n",
       "      <td>2</td>\n",
       "      <td>22</td>\n",
       "      <td>0.090909</td>\n",
       "      <td>-2.611292</td>\n",
       "    </tr>\n",
       "    <tr>\n",
       "      <th>19893</th>\n",
       "      <td>49804</td>\n",
       "      <td>2</td>\n",
       "      <td>1232</td>\n",
       "      <td>5</td>\n",
       "      <td>96</td>\n",
       "      <td>0.052083</td>\n",
       "      <td>-15.122000</td>\n",
       "    </tr>\n",
       "    <tr>\n",
       "      <th>19894</th>\n",
       "      <td>49807</td>\n",
       "      <td>1</td>\n",
       "      <td>120653</td>\n",
       "      <td>8</td>\n",
       "      <td>42</td>\n",
       "      <td>0.190476</td>\n",
       "      <td>-0.803375</td>\n",
       "    </tr>\n",
       "    <tr>\n",
       "      <th>19895</th>\n",
       "      <td>49811</td>\n",
       "      <td>1</td>\n",
       "      <td>132567</td>\n",
       "      <td>52</td>\n",
       "      <td>326</td>\n",
       "      <td>0.159509</td>\n",
       "      <td>-16.330957</td>\n",
       "    </tr>\n",
       "    <tr>\n",
       "      <th>19896</th>\n",
       "      <td>49813</td>\n",
       "      <td>2</td>\n",
       "      <td>17310</td>\n",
       "      <td>9</td>\n",
       "      <td>82</td>\n",
       "      <td>0.109756</td>\n",
       "      <td>-8.187541</td>\n",
       "    </tr>\n",
       "  </tbody>\n",
       "</table>\n",
       "<p>19897 rows × 7 columns</p>\n",
       "</div>"
      ],
      "text/plain": [
       "       index  exp_group  user_id  likes  views       ctr  linearized_likes\n",
       "0          0          1    18392      7     32  0.218750          0.292667\n",
       "1          3          2   131473      9    108  0.083333        -13.637250\n",
       "2          5          2    32420     13     44  0.295455          3.777417\n",
       "3          6          2    24239     40     90  0.444444         21.135625\n",
       "4          8          1    27443     22    109  0.201835         -0.846854\n",
       "...      ...        ...      ...    ...    ...       ...               ...\n",
       "19892  49802          1    21697      2     22  0.090909         -2.611292\n",
       "19893  49804          2     1232      5     96  0.052083        -15.122000\n",
       "19894  49807          1   120653      8     42  0.190476         -0.803375\n",
       "19895  49811          1   132567     52    326  0.159509        -16.330957\n",
       "19896  49813          2    17310      9     82  0.109756         -8.187541\n",
       "\n",
       "[19897 rows x 7 columns]"
      ]
     },
     "execution_count": 6,
     "metadata": {},
     "output_type": "execute_result"
    }
   ],
   "source": [
    "# Добавим столбец с метрикой линеаризированных лайков\n",
    "test1['linearized_likes'] = test1.likes - ctr_control1 * test1.views\n",
    "test1"
   ]
  },
  {
   "cell_type": "code",
   "execution_count": 7,
   "id": "66d23bd2",
   "metadata": {},
   "outputs": [
    {
     "data": {
      "image/png": "[encoded data removed]",
      "text/plain": [
       "<Figure size 842.4x595.44 with 1 Axes>"
      ]
     },
     "metadata": {},
     "output_type": "display_data"
    }
   ],
   "source": [
    "# Нарисуем распределение CTR в группах\n",
    "\n",
    "sns.set(rc={'figure.figsize':(11.7,8.27)})\n",
    "groups = sns.histplot(data = test1,\n",
    "              x='ctr',\n",
    "              hue='exp_group',\n",
    "              palette = ['r', 'b'],\n",
    "              alpha=0.5,\n",
    "              kde=False)"
   ]
  },
  {
   "cell_type": "code",
   "execution_count": 8,
   "id": "b96bb2f1-a091-438b-b6a3-3b4837a486d8",
   "metadata": {},
   "outputs": [
    {
     "data": {
      "image/png": "[encoded data removed]",
      "text/plain": [
       "<Figure size 842.4x595.44 with 1 Axes>"
      ]
     },
     "metadata": {},
     "output_type": "display_data"
    }
   ],
   "source": [
    "# Нарисуем распределение линеаризированных лайков\n",
    "\n",
    "sns.set(rc={'figure.figsize':(11.7,8.27)})\n",
    "groups = sns.histplot(data = test1,\n",
    "              x='linearized_likes',\n",
    "              hue='exp_group',\n",
    "              palette = ['r', 'b'],\n",
    "              alpha=0.5,\n",
    "              kde=False)"
   ]
  },
  {
   "cell_type": "markdown",
   "id": "8cccaae6-9dc2-42d1-b517-d194ec77793b",
   "metadata": {},
   "source": [
    "Видим, что формы распределений линеаризированных лайков похожи на распределения CTR. Средние значения метрики линеаризированных лайков находятся около 0."
   ]
  },
  {
   "cell_type": "code",
   "execution_count": 9,
   "id": "0633310b-9fc9-4642-8479-6a2aed71ed9b",
   "metadata": {},
   "outputs": [
    {
     "data": {
      "text/plain": [
       "Ttest_indResult(statistic=0.40514919131127564, pvalue=0.685373331140751)"
      ]
     },
     "execution_count": 9,
     "metadata": {},
     "output_type": "execute_result"
    }
   ],
   "source": [
    "# Применим t-тест к CTR \n",
    "stats.ttest_ind(test1[test1.exp_group == 1].ctr,\n",
    "                test1[test1.exp_group == 2].ctr,\n",
    "                equal_var=False)"
   ]
  },
  {
   "cell_type": "code",
   "execution_count": 10,
   "id": "b9a0e1b4-f3af-459a-879e-39a1be63142f",
   "metadata": {},
   "outputs": [
    {
     "data": {
      "text/plain": [
       "Ttest_indResult(statistic=5.936377101934478, pvalue=2.9805064038668383e-09)"
      ]
     },
     "execution_count": 10,
     "metadata": {},
     "output_type": "execute_result"
    }
   ],
   "source": [
    "# Применим t-тест к линеаризированным лайкам \n",
    "stats.ttest_ind(test1[test1.exp_group == 1].linearized_likes,\n",
    "                test1[test1.exp_group == 2].linearized_likes,\n",
    "                equal_var=False)"
   ]
  },
  {
   "cell_type": "markdown",
   "id": "6db3cb1a-252e-49bc-a756-320d728cd7ea",
   "metadata": {},
   "source": [
    "При сравнении поюзерных CTR в рамках первого эксперимента t-тест не позволяет сделать вывод о существовании значимых различий между группами 1 и 2. В то же время, при применении этого теста для сравнения метрики линеаризированных лайков были получены довольно высокое значение t-статистики и p-value ниже 0.5. Таким образом, в данном случае эта метрика помогла нам найти различия там, где они действительно есть, то есть не совершить ошибку второго рода "
   ]
  },
  {
   "cell_type": "markdown",
   "id": "31399a41-f619-4444-9129-ea24baa5059f",
   "metadata": {},
   "source": [
    "****\n",
    "\n",
    "#### Проанализируем второй тест (группы 0 и 3) по метрике линеаризированных лайков "
   ]
  },
  {
   "cell_type": "code",
   "execution_count": 11,
   "id": "2aacfa7e-e7a9-43a5-86f7-95379cb0ad22",
   "metadata": {},
   "outputs": [
    {
     "data": {
      "text/plain": [
       "3    10002\n",
       "0     9920\n",
       "Name: exp_group, dtype: int64"
      ]
     },
     "execution_count": 11,
     "metadata": {},
     "output_type": "execute_result"
    }
   ],
   "source": [
    "# Посмотрим на количество пользователей в группах\n",
    "test2.exp_group.value_counts()"
   ]
  },
  {
   "cell_type": "code",
   "execution_count": 12,
   "id": "3e8e92ae-cdc8-4a51-86bb-9c0e439de7be",
   "metadata": {},
   "outputs": [
    {
     "data": {
      "text/plain": [
       "0.20983799195924746"
      ]
     },
     "execution_count": 12,
     "metadata": {},
     "output_type": "execute_result"
    }
   ],
   "source": [
    "# Посчитаем глобальный CTR контрольной группы теста №2 (exp_group = 1)\n",
    "ctr_control2 = test2[test2['exp_group'] == 0].likes.sum()/test2[test2['exp_group'] == 0].views.sum()\n",
    "ctr_control2"
   ]
  },
  {
   "cell_type": "code",
   "execution_count": 13,
   "id": "46e59246-c813-473b-8911-6d38f7047d9d",
   "metadata": {},
   "outputs": [
    {
     "data": {
      "text/html": [
       "<div>\n",
       "<style scoped>\n",
       "    .dataframe tbody tr th:only-of-type {\n",
       "        vertical-align: middle;\n",
       "    }\n",
       "\n",
       "    .dataframe tbody tr th {\n",
       "        vertical-align: top;\n",
       "    }\n",
       "\n",
       "    .dataframe thead th {\n",
       "        text-align: right;\n",
       "    }\n",
       "</style>\n",
       "<table border=\"1\" class=\"dataframe\">\n",
       "  <thead>\n",
       "    <tr style=\"text-align: right;\">\n",
       "      <th></th>\n",
       "      <th>index</th>\n",
       "      <th>exp_group</th>\n",
       "      <th>user_id</th>\n",
       "      <th>likes</th>\n",
       "      <th>views</th>\n",
       "      <th>ctr</th>\n",
       "      <th>linearized_likes</th>\n",
       "    </tr>\n",
       "  </thead>\n",
       "  <tbody>\n",
       "    <tr>\n",
       "      <th>0</th>\n",
       "      <td>1</td>\n",
       "      <td>3</td>\n",
       "      <td>115383</td>\n",
       "      <td>12</td>\n",
       "      <td>44</td>\n",
       "      <td>0.272727</td>\n",
       "      <td>2.767128</td>\n",
       "    </tr>\n",
       "    <tr>\n",
       "      <th>1</th>\n",
       "      <td>2</td>\n",
       "      <td>3</td>\n",
       "      <td>123580</td>\n",
       "      <td>2</td>\n",
       "      <td>11</td>\n",
       "      <td>0.181818</td>\n",
       "      <td>-0.308218</td>\n",
       "    </tr>\n",
       "    <tr>\n",
       "      <th>2</th>\n",
       "      <td>7</td>\n",
       "      <td>0</td>\n",
       "      <td>30319</td>\n",
       "      <td>25</td>\n",
       "      <td>114</td>\n",
       "      <td>0.219298</td>\n",
       "      <td>1.078469</td>\n",
       "    </tr>\n",
       "    <tr>\n",
       "      <th>3</th>\n",
       "      <td>9</td>\n",
       "      <td>3</td>\n",
       "      <td>118359</td>\n",
       "      <td>7</td>\n",
       "      <td>38</td>\n",
       "      <td>0.184211</td>\n",
       "      <td>-0.973844</td>\n",
       "    </tr>\n",
       "    <tr>\n",
       "      <th>4</th>\n",
       "      <td>11</td>\n",
       "      <td>0</td>\n",
       "      <td>7626</td>\n",
       "      <td>14</td>\n",
       "      <td>39</td>\n",
       "      <td>0.358974</td>\n",
       "      <td>5.816318</td>\n",
       "    </tr>\n",
       "    <tr>\n",
       "      <th>...</th>\n",
       "      <td>...</td>\n",
       "      <td>...</td>\n",
       "      <td>...</td>\n",
       "      <td>...</td>\n",
       "      <td>...</td>\n",
       "      <td>...</td>\n",
       "      <td>...</td>\n",
       "    </tr>\n",
       "    <tr>\n",
       "      <th>19917</th>\n",
       "      <td>49795</td>\n",
       "      <td>0</td>\n",
       "      <td>110492</td>\n",
       "      <td>4</td>\n",
       "      <td>17</td>\n",
       "      <td>0.235294</td>\n",
       "      <td>0.432754</td>\n",
       "    </tr>\n",
       "    <tr>\n",
       "      <th>19918</th>\n",
       "      <td>49808</td>\n",
       "      <td>0</td>\n",
       "      <td>136299</td>\n",
       "      <td>35</td>\n",
       "      <td>116</td>\n",
       "      <td>0.301724</td>\n",
       "      <td>10.658793</td>\n",
       "    </tr>\n",
       "    <tr>\n",
       "      <th>19919</th>\n",
       "      <td>49809</td>\n",
       "      <td>0</td>\n",
       "      <td>27030</td>\n",
       "      <td>12</td>\n",
       "      <td>64</td>\n",
       "      <td>0.187500</td>\n",
       "      <td>-1.429631</td>\n",
       "    </tr>\n",
       "    <tr>\n",
       "      <th>19920</th>\n",
       "      <td>49810</td>\n",
       "      <td>3</td>\n",
       "      <td>122758</td>\n",
       "      <td>20</td>\n",
       "      <td>118</td>\n",
       "      <td>0.169492</td>\n",
       "      <td>-4.760883</td>\n",
       "    </tr>\n",
       "    <tr>\n",
       "      <th>19921</th>\n",
       "      <td>49812</td>\n",
       "      <td>3</td>\n",
       "      <td>122190</td>\n",
       "      <td>19</td>\n",
       "      <td>65</td>\n",
       "      <td>0.292308</td>\n",
       "      <td>5.360531</td>\n",
       "    </tr>\n",
       "  </tbody>\n",
       "</table>\n",
       "<p>19922 rows × 7 columns</p>\n",
       "</div>"
      ],
      "text/plain": [
       "       index  exp_group  user_id  likes  views       ctr  linearized_likes\n",
       "0          1          3   115383     12     44  0.272727          2.767128\n",
       "1          2          3   123580      2     11  0.181818         -0.308218\n",
       "2          7          0    30319     25    114  0.219298          1.078469\n",
       "3          9          3   118359      7     38  0.184211         -0.973844\n",
       "4         11          0     7626     14     39  0.358974          5.816318\n",
       "...      ...        ...      ...    ...    ...       ...               ...\n",
       "19917  49795          0   110492      4     17  0.235294          0.432754\n",
       "19918  49808          0   136299     35    116  0.301724         10.658793\n",
       "19919  49809          0    27030     12     64  0.187500         -1.429631\n",
       "19920  49810          3   122758     20    118  0.169492         -4.760883\n",
       "19921  49812          3   122190     19     65  0.292308          5.360531\n",
       "\n",
       "[19922 rows x 7 columns]"
      ]
     },
     "execution_count": 13,
     "metadata": {},
     "output_type": "execute_result"
    }
   ],
   "source": [
    "# Добавим столбец с метрикой линеаризированных лайков\n",
    "test2['linearized_likes'] = test2.likes - ctr_control2 * test2.views\n",
    "test2"
   ]
  },
  {
   "cell_type": "code",
   "execution_count": 14,
   "id": "56ac2caf-6ebc-42c0-9eff-499936966159",
   "metadata": {},
   "outputs": [
    {
     "data": {
      "image/png": "[encoded data removed]",
      "text/plain": [
       "<Figure size 842.4x595.44 with 1 Axes>"
      ]
     },
     "metadata": {},
     "output_type": "display_data"
    }
   ],
   "source": [
    "# Нарисуем распределение CTR в группах\n",
    "\n",
    "sns.set(rc={'figure.figsize':(11.7,8.27)})\n",
    "groups = sns.histplot(data = test2,\n",
    "              x='ctr',\n",
    "              hue='exp_group',\n",
    "              palette = ['r', 'b'],\n",
    "              alpha=0.5,\n",
    "              kde=False)"
   ]
  },
  {
   "cell_type": "code",
   "execution_count": 15,
   "id": "2d65b82f-99cb-480d-93fa-1cca7e4c06e9",
   "metadata": {},
   "outputs": [
    {
     "data": {
      "image/png": "[encoded data removed]",
      "text/plain": [
       "<Figure size 842.4x595.44 with 1 Axes>"
      ]
     },
     "metadata": {},
     "output_type": "display_data"
    }
   ],
   "source": [
    "# Нарисуем распределение линеаризированных лайков\n",
    "\n",
    "sns.set(rc={'figure.figsize':(11.7,8.27)})\n",
    "groups = sns.histplot(data = test2,\n",
    "              x='linearized_likes',\n",
    "              hue='exp_group',\n",
    "              palette = ['r', 'b'],\n",
    "              alpha=0.5,\n",
    "              kde=False)"
   ]
  },
  {
   "cell_type": "code",
   "execution_count": 16,
   "id": "3450f229-09f0-47cd-b207-e27c28d084a1",
   "metadata": {},
   "outputs": [
    {
     "data": {
      "text/plain": [
       "Ttest_indResult(statistic=-13.935320516755823, pvalue=6.216047483057877e-44)"
      ]
     },
     "execution_count": 16,
     "metadata": {},
     "output_type": "execute_result"
    }
   ],
   "source": [
    "# Применим t-тест к CTR \n",
    "stats.ttest_ind(test2[test2.exp_group == 0].ctr,\n",
    "                test2[test2.exp_group == 3].ctr,\n",
    "                equal_var=False)"
   ]
  },
  {
   "cell_type": "code",
   "execution_count": 17,
   "id": "86459f74-913c-41ff-9dcf-ceff307c3c57",
   "metadata": {},
   "outputs": [
    {
     "data": {
      "text/plain": [
       "Ttest_indResult(statistic=-16.18623003293285, pvalue=1.4918137745324434e-58)"
      ]
     },
     "execution_count": 17,
     "metadata": {},
     "output_type": "execute_result"
    }
   ],
   "source": [
    "# Применим t-тест к линеаризированным лайкам \n",
    "stats.ttest_ind(test2[test2.exp_group == 0].linearized_likes,\n",
    "                test2[test2.exp_group == 3].linearized_likes,\n",
    "                equal_var=False)"
   ]
  },
  {
   "cell_type": "markdown",
   "id": "d0ec6d90-7be3-48f3-91b7-84b6467b4778",
   "metadata": {},
   "source": [
    "В случае со вторым экспериментом применение t-теста и на поюзерных CTR, и на линеризированных лайках позволяет отклонить гипотезу о равенстве групп 0 и 3. Важно отметить, что, как и в случае с первым экспериментом, мощность теста на линеаризированных лайках оказалась выше, о чем свидетельствуют более высокое (по модулю) значение t-статистики и меньшее p-value."
   ]
  },
  {
   "cell_type": "markdown",
   "id": "da7565c1-9d93-446e-ba4b-2db857e74345",
   "metadata": {},
   "source": [
    "***\n",
    "\n",
    "#### Вывод:\n",
    "\n",
    "Применение t-теста на метрике линеаризованных лайков в случае обоих экспериментов дало более низкое значение p-value, чем применение его напрямую к интересующей нас метрике - пользовательским CTR.\n",
    "\n",
    "Если в случае второго эксперимента мы имели основания для отклонения гипотезы о равенстве средних в группах 0 и 3 и без конструирования новой метрики, то в рамках первого этот метод позволил нам обнаружить статистически значимые различия между группами 1 и 2, которые не мог обнаружить t-тест на CTR.\n",
    "\n",
    "Продуктовые рекомендации:\n",
    "1) по результатам первого A/B-теста алгоритм рекомендаций \"похожих на лайкнутые постов\" не рекомендуется раскатывать на всех пользователей, так как он приводит к снижению CTR (об этом свидетелельствует высокое положительное значение t-статитики, полученное при сравнении метрики линеаризированных лайков между группами 1 и 2);\n",
    "2) по результатам второго A/B-теста алгоритм рекомендаций \"постов, которые лайкали похожие на пользователя люди\" рекомендуется раскатить на всех пользователей, так как он приводит к увеличению CTR (об этом свидетелельствует высокое (по модулю) отрицательное значение t-статитики, полученное при сравнении метрики линеаризированных лайков между группами 0 и 3)."
   ]
  }
 ],
 "metadata": {
  "kernelspec": {
   "display_name": "Python 3 (ipykernel)",
   "language": "python",
   "name": "python3"
  },
  "language_info": {
   "codemirror_mode": {
    "name": "ipython",
    "version": 3
   },
   "file_extension": ".py",
   "mimetype": "text/x-python",
   "name": "python",
   "nbconvert_exporter": "python",
   "pygments_lexer": "ipython3",
   "version": "3.8.10"
  }
 },
 "nbformat": 4,
 "nbformat_minor": 5
}
