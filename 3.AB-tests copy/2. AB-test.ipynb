{
 "cells": [
  {
   "cell_type": "markdown",
   "id": "ef7b7cbf-2e9c-4860-bff0-b84b230e1097",
   "metadata": {},
   "source": [
    "### Задание 5.2.\n",
    "\n",
    "Пришло время проанализировать результаты эксперимента, который мы провели вместе с командой дата сайентистов. Эксперимент проходил с 2023-06-30 по 2023-07-06 включительно. Для эксперимента были задействованы 2 и 1 группы. \n",
    "\n",
    "В группе 2 был использован один из новых алгоритмов рекомендации постов, группа 1 использовалась в качестве контроля. \n",
    "\n",
    "Основная гипотеза заключается в том, что новый алгоритм во 2-й группе приведет к увеличению CTR. \n",
    "\n",
    "Ваша задача — проанализировать данные АB-теста. \n",
    "\n",
    "1) Выбрать метод анализа и сравнить CTR в двух группах (мы разбирали t-тест, Пуассоновский бутстреп, тест Манна-Уитни, t-тест на сглаженном ctr (α=5) а также t-тест и тест Манна-Уитни поверх бакетного преобразования).\n",
    "2) Сравните данные этими тестами. А еще посмотрите на распределения глазами. Почему тесты сработали так как сработали? \n",
    "3) Напишите рекомендацию, будем ли мы раскатывать новый алгоритм на всех новых пользователей или все-таки не стоит."
   ]
  },
  {
   "cell_type": "code",
   "execution_count": 1,
   "id": "0aa34c5b",
   "metadata": {},
   "outputs": [],
   "source": [
    "import numpy as np\n",
    "import seaborn as sns\n",
    "import scipy\n",
    "from matplotlib import pyplot as plt\n",
    "import pandas as pd\n",
    "from scipy import stats\n",
    "import pandahouse"
   ]
  },
  {
   "cell_type": "code",
   "execution_count": 2,
   "id": "3f90683e-d9a1-492c-8aa3-10ffb56c1c3c",
   "metadata": {},
   "outputs": [
    {
     "data": {
      "text/plain": [
       "exp_group\n",
       "1    10020\n",
       "2     9877\n",
       "Name: user_id, dtype: int64"
      ]
     },
     "execution_count": 2,
     "metadata": {},
     "output_type": "execute_result"
    }
   ],
   "source": [
    "# Загружаем данные о количестве просмотров и лайков полизователей из 2 и 1 экспериментальной группы за период с 30 июня по 6 июля, считаем их CTR\n",
    "connection = {'host': 'https://clickhouse.lab.karpov.courses',\n",
    "                      'database':'******',\n",
    "                      'user':'student', \n",
    "                      'password':'******'\n",
    "                     }\n",
    "\n",
    "\n",
    "query = \"\"\"\n",
    "    SELECT exp_group, \n",
    "        user_id,\n",
    "        sum(action = 'like') as likes,\n",
    "        sum(action = 'view') as views,\n",
    "        likes/views as ctr\n",
    "    FROM {db}.feed_actions \n",
    "    WHERE toDate(time) between '2023-06-30' and '2023-07-06'\n",
    "        and exp_group in (2,1)\n",
    "    GROUP BY exp_group, user_id\n",
    "\"\"\"\n",
    "\n",
    "df = pandahouse.read_clickhouse(query, connection=connection)\n",
    "\n",
    "# взглянем на количество пользователей в каждой группе\n",
    "df.groupby('exp_group').user_id.count()"
   ]
  },
  {
   "cell_type": "markdown",
   "id": "1c776419-4e3f-4abb-9c95-942ea524987b",
   "metadata": {},
   "source": [
    "### Визуализируем распределения CTR в обеих группах"
   ]
  },
  {
   "cell_type": "code",
   "execution_count": 3,
   "id": "66d23bd2",
   "metadata": {},
   "outputs": [
    {
     "data": {
      "image/png": "[encoded data removed]",
      "text/plain": [
       "<Figure size 842.4x595.44 with 1 Axes>"
      ]
     },
     "metadata": {},
     "output_type": "display_data"
    }
   ],
   "source": [
    "# Нарисуем распределение CTR в группах\n",
    "\n",
    "sns.set(rc={'figure.figsize':(11.7,8.27)})\n",
    "groups = sns.histplot(data = df,\n",
    "              x='ctr',\n",
    "              hue='exp_group',\n",
    "              palette = ['r', 'b'],\n",
    "              alpha=0.5,\n",
    "              kde=False)"
   ]
  },
  {
   "cell_type": "markdown",
   "id": "4f381374",
   "metadata": {},
   "source": [
    "Распределение CTR в тестовой группе оказалось бимодальным. \n",
    "\n",
    "Дополнительно взглянем на описательные статистики CTR в обеих группах."
   ]
  },
  {
   "cell_type": "code",
   "execution_count": 4,
   "id": "5c80ee04",
   "metadata": {},
   "outputs": [
    {
     "data": {
      "text/html": [
       "<div>\n",
       "<style scoped>\n",
       "    .dataframe tbody tr th:only-of-type {\n",
       "        vertical-align: middle;\n",
       "    }\n",
       "\n",
       "    .dataframe tbody tr th {\n",
       "        vertical-align: top;\n",
       "    }\n",
       "\n",
       "    .dataframe thead th {\n",
       "        text-align: right;\n",
       "    }\n",
       "</style>\n",
       "<table border=\"1\" class=\"dataframe\">\n",
       "  <thead>\n",
       "    <tr style=\"text-align: right;\">\n",
       "      <th></th>\n",
       "      <th>count</th>\n",
       "      <th>mean</th>\n",
       "      <th>std</th>\n",
       "      <th>min</th>\n",
       "      <th>25%</th>\n",
       "      <th>50%</th>\n",
       "      <th>75%</th>\n",
       "      <th>max</th>\n",
       "    </tr>\n",
       "    <tr>\n",
       "      <th>exp_group</th>\n",
       "      <th></th>\n",
       "      <th></th>\n",
       "      <th></th>\n",
       "      <th></th>\n",
       "      <th></th>\n",
       "      <th></th>\n",
       "      <th></th>\n",
       "      <th></th>\n",
       "    </tr>\n",
       "  </thead>\n",
       "  <tbody>\n",
       "    <tr>\n",
       "      <th>1</th>\n",
       "      <td>10020.0</td>\n",
       "      <td>0.216774</td>\n",
       "      <td>0.082969</td>\n",
       "      <td>0.0</td>\n",
       "      <td>0.163636</td>\n",
       "      <td>0.205882</td>\n",
       "      <td>0.257870</td>\n",
       "      <td>0.722222</td>\n",
       "    </tr>\n",
       "    <tr>\n",
       "      <th>2</th>\n",
       "      <td>9877.0</td>\n",
       "      <td>0.216102</td>\n",
       "      <td>0.142870</td>\n",
       "      <td>0.0</td>\n",
       "      <td>0.096774</td>\n",
       "      <td>0.153285</td>\n",
       "      <td>0.323529</td>\n",
       "      <td>0.900000</td>\n",
       "    </tr>\n",
       "  </tbody>\n",
       "</table>\n",
       "</div>"
      ],
      "text/plain": [
       "             count      mean       std  min       25%       50%       75%  \\\n",
       "exp_group                                                                   \n",
       "1          10020.0  0.216774  0.082969  0.0  0.163636  0.205882  0.257870   \n",
       "2           9877.0  0.216102  0.142870  0.0  0.096774  0.153285  0.323529   \n",
       "\n",
       "                max  \n",
       "exp_group            \n",
       "1          0.722222  \n",
       "2          0.900000  "
      ]
     },
     "execution_count": 4,
     "metadata": {},
     "output_type": "execute_result"
    }
   ],
   "source": [
    "df.groupby('exp_group').ctr.describe()"
   ]
  },
  {
   "cell_type": "markdown",
   "id": "6ec60b2e-2d40-4142-b74f-f778bb681c2d",
   "metadata": {},
   "source": [
    "Перед тем, как переходить к сравнению групп с помощью статистических тестов, обозначим, что в качестве уровня значимости примем **5%**."
   ]
  },
  {
   "cell_type": "markdown",
   "id": "ae2c3c0a",
   "metadata": {},
   "source": [
    "*****\n",
    "### Сравнение поюзерных CTR с помощью T-Test"
   ]
  },
  {
   "cell_type": "code",
   "execution_count": 5,
   "id": "a523a68d",
   "metadata": {},
   "outputs": [
    {
     "data": {
      "text/plain": [
       "Ttest_indResult(statistic=0.4051491913112757, pvalue=0.685373331140751)"
      ]
     },
     "execution_count": 5,
     "metadata": {},
     "output_type": "execute_result"
    }
   ],
   "source": [
    "# применим ttest\n",
    "stats.ttest_ind(df[df.exp_group == 1].ctr,\n",
    "                df[df.exp_group == 2].ctr,\n",
    "                equal_var=False)"
   ]
  },
  {
   "cell_type": "markdown",
   "id": "c4845e09",
   "metadata": {},
   "source": [
    "В случае T-testа нулевая гипотеза заключается в том, что средние значения CTR в обеих группах равны. Применив его к нашим выборкам, мы получили p-value, равное 0.685, и довольно низкое значение t-статистики. Значит, оснований для отклонения нулевой гипотезы у нас нет.\n",
    "\n",
    "Средние значения наших выборок оказались действительно практически равны - около 0.216. Но при этом внешний вид распределений CTR свидетельствует, что введение нового алгоритма рекомендаций в тестовой группе всё-таки каким-то образом повлияло на CTR.\n",
    "***** "
   ]
  },
  {
   "cell_type": "markdown",
   "id": "dfe38331",
   "metadata": {},
   "source": [
    "### Сравнение сглаженных CTR с помощью T-Test"
   ]
  },
  {
   "cell_type": "code",
   "execution_count": 6,
   "id": "341203cb",
   "metadata": {},
   "outputs": [
    {
     "name": "stdout",
     "output_type": "stream",
     "text": [
      "0.2096041628394293 0.20025051027061783\n"
     ]
    }
   ],
   "source": [
    "# Посчитаем глобальный CTR 1 и 2 экспериментальных групп\n",
    "group_1 = df[df.exp_group == 1]\n",
    "group_2 = df[df.exp_group == 2]\n",
    "global_ctr_1 = group_1.likes.sum()/group_1.views.sum()\n",
    "global_ctr_2 = group_2.likes.sum()/group_2.views.sum()\n",
    "print(global_ctr_1, global_ctr_2)"
   ]
  },
  {
   "cell_type": "code",
   "execution_count": 7,
   "id": "76d90eb0",
   "metadata": {},
   "outputs": [],
   "source": [
    "def get_smoothed_ctr(user_likes, user_views, global_ctr, alpha):\n",
    "    smothed_ctr = (user_likes + alpha * global_ctr) / (user_views + alpha)\n",
    "    return smothed_ctr"
   ]
  },
  {
   "cell_type": "code",
   "execution_count": 8,
   "id": "743fe7a6",
   "metadata": {},
   "outputs": [
    {
     "name": "stderr",
     "output_type": "stream",
     "text": [
      "/tmp/ipykernel_362/273129146.py:2: SettingWithCopyWarning: \n",
      "A value is trying to be set on a copy of a slice from a DataFrame.\n",
      "Try using .loc[row_indexer,col_indexer] = value instead\n",
      "\n",
      "See the caveats in the documentation: https://pandas.pydata.org/pandas-docs/stable/user_guide/indexing.html#returning-a-view-versus-a-copy\n",
      "  group_1['smoothed_ctr'] = df.apply(\n",
      "/opt/conda/lib/python3.8/site-packages/seaborn/distributions.py:2557: FutureWarning: `distplot` is a deprecated function and will be removed in a future version. Please adapt your code to use either `displot` (a figure-level function with similar flexibility) or `histplot` (an axes-level function for histograms).\n",
      "  warnings.warn(msg, FutureWarning)\n"
     ]
    },
    {
     "data": {
      "text/plain": [
       "<AxesSubplot:xlabel='ctr'>"
      ]
     },
     "execution_count": 8,
     "metadata": {},
     "output_type": "execute_result"
    },
    {
     "data": {
      "image/png": "[encoded data removed]",
      "text/plain": [
       "<Figure size 720x504 with 1 Axes>"
      ]
     },
     "metadata": {},
     "output_type": "display_data"
    }
   ],
   "source": [
    "# Посчитаем сглаженный CTR для пользователей из 1 группы\n",
    "group_1['smoothed_ctr'] = df.apply(\n",
    "    lambda x: get_smoothed_ctr(x['likes'], x['views'], global_ctr_1, 5), axis=1)\n",
    "\n",
    "# Визуализируем распределение сглаженных CTR и фактических CTR 1 группы\n",
    "sns.set(rc={'figure.figsize':(10,7)})\n",
    "sns.distplot(group_1.smoothed_ctr,\n",
    "             kde = False,\n",
    "             color = 'r')\n",
    "sns.distplot(group_1.ctr,\n",
    "             kde = False,\n",
    "             color = 'b')"
   ]
  },
  {
   "cell_type": "code",
   "execution_count": 9,
   "id": "8aa90c8b-aae5-40b9-a6ca-100d1923c5f3",
   "metadata": {},
   "outputs": [
    {
     "name": "stderr",
     "output_type": "stream",
     "text": [
      "/tmp/ipykernel_362/1207997953.py:2: SettingWithCopyWarning: \n",
      "A value is trying to be set on a copy of a slice from a DataFrame.\n",
      "Try using .loc[row_indexer,col_indexer] = value instead\n",
      "\n",
      "See the caveats in the documentation: https://pandas.pydata.org/pandas-docs/stable/user_guide/indexing.html#returning-a-view-versus-a-copy\n",
      "  group_2['smoothed_ctr'] = df.apply(\n",
      "/opt/conda/lib/python3.8/site-packages/seaborn/distributions.py:2557: FutureWarning: `distplot` is a deprecated function and will be removed in a future version. Please adapt your code to use either `displot` (a figure-level function with similar flexibility) or `histplot` (an axes-level function for histograms).\n",
      "  warnings.warn(msg, FutureWarning)\n"
     ]
    },
    {
     "data": {
      "text/plain": [
       "<AxesSubplot:xlabel='ctr'>"
      ]
     },
     "execution_count": 9,
     "metadata": {},
     "output_type": "execute_result"
    },
    {
     "data": {
      "image/png": "[encoded data removed]",
      "text/plain": [
       "<Figure size 720x504 with 1 Axes>"
      ]
     },
     "metadata": {},
     "output_type": "display_data"
    }
   ],
   "source": [
    "# Посчитаем сглаженный CTR для пользователей из 2 группы\n",
    "group_2['smoothed_ctr'] = df.apply(\n",
    "    lambda x: get_smoothed_ctr(x['likes'], x['views'], global_ctr_2, 5), axis=1)\n",
    "\n",
    "# Визуализируем распределение сглаженных CTR и фактических CTR 2 группы\n",
    "sns.set(rc={'figure.figsize':(10,7)})\n",
    "sns.distplot(group_2.smoothed_ctr,\n",
    "             kde = False,\n",
    "             color = 'r')\n",
    "sns.distplot(group_2.ctr,\n",
    "             kde = False,\n",
    "             color = 'b')"
   ]
  },
  {
   "cell_type": "markdown",
   "id": "cdbdfb8d-3ce0-4a1a-a10d-f5fd7d7bc101",
   "metadata": {},
   "source": [
    "По графикам нельзя сказать, что сглаживание существенно изменило распределения CTR-ов обеих групп. Однако видно, что хвосты распределений стали меньше.\n",
    "\n",
    "Применим T-test."
   ]
  },
  {
   "cell_type": "code",
   "execution_count": 10,
   "id": "c9e64815",
   "metadata": {},
   "outputs": [
    {
     "data": {
      "text/plain": [
       "Ttest_indResult(statistic=1.9460491517027678, pvalue=0.05166679015318533)"
      ]
     },
     "execution_count": 10,
     "metadata": {},
     "output_type": "execute_result"
    }
   ],
   "source": [
    "stats.ttest_ind(group_1.smoothed_ctr, group_2.smoothed_ctr, equal_var=False)"
   ]
  },
  {
   "cell_type": "markdown",
   "id": "b83da861",
   "metadata": {},
   "source": [
    "Значение t-статистики при сравнении сглаженных CTR в группах оказался уже значительно выше, чем в случае с CTR, над которым не производились манипуляции. \n",
    "\n",
    "Вероятно это связано с тем, что во второй группе общегрупповой CTR меньше почти на 1 процентный пункт, а также тем, что в ней было больше пользователей с высоким CTR, которые совершили совсем немного действий. В результате сглаживания CTR этих пользователей стали близки к общегрупповому, а среднее значение этой метрики во второй группе уменьшилось в большей степени, чем в первой. \n",
    "\n",
    "Посчитаем средние значения CTR и сглаженных CTR в обеих группах:"
   ]
  },
  {
   "cell_type": "code",
   "execution_count": 11,
   "id": "a315c124-15db-43e5-9efc-11b660ed8efd",
   "metadata": {},
   "outputs": [
    {
     "name": "stdout",
     "output_type": "stream",
     "text": [
      "Группа 1:\n",
      "ctr             0.216774\n",
      "smoothed_ctr    0.215280\n",
      "dtype: float64\n",
      "\n",
      "Группа 2:\n",
      "ctr             0.216102\n",
      "smoothed_ctr    0.212508\n",
      "dtype: float64\n"
     ]
    }
   ],
   "source": [
    "print('Группа 1:')\n",
    "print(group_1[['ctr', 'smoothed_ctr']].mean())\n",
    "print()\n",
    "print('Группа 2:')\n",
    "print(group_2[['ctr', 'smoothed_ctr']].mean())"
   ]
  },
  {
   "cell_type": "markdown",
   "id": "4f2cdd2f-dfbd-490b-8963-76bc1db9f4ce",
   "metadata": {},
   "source": [
    "Действительно, во второй группе среднее сглаженных CTR отличается от среднего фактических CTR примерно на 0.36 процентных пункта, а в первой - примерно на 0,15 п.п. То есть в числителе формулы для расчета t-статистики в результате произведенного преобразования теперь большее число.\n",
    "\n",
    "Не смотря на всё перечисленное, p-value, полученный в результате применения t-теста на сглаженных CTR равен 0.0517, что не дает нам оснований для отклонения нулевой гипотезы о равенстве средних в 1 и 2 группах.\n",
    "*****"
   ]
  },
  {
   "cell_type": "markdown",
   "id": "5cc9f7d4",
   "metadata": {},
   "source": [
    "### Сравнение поюзерных CTR с помощью теста Манна-Уитни"
   ]
  },
  {
   "cell_type": "code",
   "execution_count": 12,
   "id": "5243290b",
   "metadata": {},
   "outputs": [
    {
     "data": {
      "text/plain": [
       "MannwhitneyuResult(statistic=43777627.0, pvalue=4.632205841806026e-45)"
      ]
     },
     "execution_count": 12,
     "metadata": {},
     "output_type": "execute_result"
    }
   ],
   "source": [
    "# применим тест Манна-Уитни\n",
    "stats.mannwhitneyu(df[df.exp_group == 2].ctr,\n",
    "                df[df.exp_group == 1].ctr)\n",
    "                "
   ]
  },
  {
   "cell_type": "markdown",
   "id": "0fe14a3d",
   "metadata": {},
   "source": [
    "При применении теста Манна-Уитни p-value получился намного меньше, чем 0.05, то есть значимые различия между группами 1 и 2 есть. \n",
    "\n",
    "Если точнее, результат теста позволяет нам принять такую альтернативную гипотезу: вероятность того, что CTR случайного пользователя из одной группы будет больше, чем у случайного пользователя из другой, отличается от вероятности противоположного исхода. \n",
    "\n",
    "Возникает вопрос, для какой из групп эта гипотеза верна?\n",
    "Как вариант, можем посмотреть на боксплоты CTR-ов."
   ]
  },
  {
   "cell_type": "code",
   "execution_count": 13,
   "id": "6560d799-d974-43b9-98dd-248220588c71",
   "metadata": {},
   "outputs": [
    {
     "data": {
      "text/plain": [
       "<AxesSubplot:xlabel='ctr', ylabel='str_exp_group'>"
      ]
     },
     "execution_count": 13,
     "metadata": {},
     "output_type": "execute_result"
    },
    {
     "data": {
      "image/png": "[encoded data removed]",
      "text/plain": [
       "<Figure size 1008x360 with 1 Axes>"
      ]
     },
     "metadata": {},
     "output_type": "display_data"
    }
   ],
   "source": [
    "df['str_exp_group'] = [str(i) for i in df.exp_group]\n",
    "sns.set(rc={'figure.figsize':(14,5)})\n",
    "sns.boxplot(data = df,\n",
    "              x='ctr',\n",
    "              y='str_exp_group')\n",
    "              #palette = ['r', 'b'])"
   ]
  },
  {
   "cell_type": "markdown",
   "id": "440f96b2-28f2-42d3-b9e9-ca03b1855bb6",
   "metadata": {},
   "source": [
    "На графике видно, что более 75% пользователей из группы 1 имеют большее значение CTR, чем 50% пользователей в группе 2. Принимая это во внимание и имея представление о том, как работает тест Манна-Уитни, можно сделать вывод, что полученные значения статистики и p-value свидетельствуют, что раскатывание нового алгоритма рекомендации постов на всех пользователей приведет к снижению CTR у большинства из них. \n"
   ]
  },
  {
   "cell_type": "markdown",
   "id": "e9025060",
   "metadata": {},
   "source": [
    "### Пуассоновский бутстреп для подсчета разницы в CTR"
   ]
  },
  {
   "cell_type": "code",
   "execution_count": 14,
   "id": "64792963",
   "metadata": {},
   "outputs": [],
   "source": [
    "# возьмем функцию из лекции\n",
    "\n",
    "def bootstrap(likes1, views1, likes2, views2, n_bootstrap=2000):\n",
    "    poisson_bootstraps1 = stats.poisson(1).rvs((n_bootstrap, len(likes1))).astype(np.int64)\n",
    "    poisson_bootstraps2 = stats.poisson(1).rvs((n_bootstrap, len(likes2))).astype(np.int64)\n",
    "    \n",
    "    globalCTR1 = (poisson_bootstraps1*likes1).sum(axis=1)/(poisson_bootstraps1*views1).sum(axis=1)\n",
    "    globalCTR2 = (poisson_bootstraps2*likes2).sum(axis=1)/(poisson_bootstraps2*views2).sum(axis=1)\n",
    "    \n",
    "    return globalCTR1, globalCTR2"
   ]
  },
  {
   "cell_type": "code",
   "execution_count": 15,
   "id": "1707fe74",
   "metadata": {},
   "outputs": [
    {
     "data": {
      "text/plain": [
       "<AxesSubplot:ylabel='Count'>"
      ]
     },
     "execution_count": 15,
     "metadata": {},
     "output_type": "execute_result"
    },
    {
     "data": {
      "image/png": "[encoded data removed]",
      "text/plain": [
       "<Figure size 1008x360 with 1 Axes>"
      ]
     },
     "metadata": {},
     "output_type": "display_data"
    }
   ],
   "source": [
    "# Посчитаем по 2000 глобальных CTR для псевдовыборок из групп 1 и 2\n",
    "likes1 = df[df.exp_group == 1].likes.to_numpy()\n",
    "views1 = df[df.exp_group == 1].views.to_numpy()\n",
    "likes2 = df[df.exp_group == 2].likes.to_numpy()\n",
    "views2 = df[df.exp_group == 2].views.to_numpy()\n",
    "\n",
    "ctr1, ctr2 = bootstrap(likes1, views1, likes2, views2)\n",
    "\n",
    "# Визуализируем распределения получившихся глобальных CTR\n",
    "sns.histplot(ctr1, color = 'r')\n",
    "sns.histplot(ctr2, color = 'b')"
   ]
  },
  {
   "cell_type": "code",
   "execution_count": 16,
   "id": "3d6d8c0f",
   "metadata": {},
   "outputs": [
    {
     "data": {
      "text/plain": [
       "<AxesSubplot:ylabel='Count'>"
      ]
     },
     "execution_count": 16,
     "metadata": {},
     "output_type": "execute_result"
    },
    {
     "data": {
      "image/png": "[encoded data removed]",
      "text/plain": [
       "<Figure size 1008x360 with 1 Axes>"
      ]
     },
     "metadata": {},
     "output_type": "display_data"
    }
   ],
   "source": [
    "#Визуализируем распределение разниц между глобальными CTR\n",
    "sns.histplot(ctr2 - ctr1)"
   ]
  },
  {
   "cell_type": "markdown",
   "id": "d78a1acc",
   "metadata": {},
   "source": [
    "Распределения глобальных СTR, сформированные методом пуассоновского бутстрепа имеют форму, очень схожую с нормальным распределением, значит, мы вполне могли бы сравнить их с помощью t-теста. \n",
    "\n",
    "Правда в нашем случае в этом нет необходимости, так как они не пересекаются, а распределение разниц между глобальными CTR псевдовыборок из группы 2 и из группы 1 целиком лежит ниже нуля. Таким образом, бутстреп показывает, что в тестовой группе глобальный CTR меньше, чем в контрольной.\n",
    "\n",
    "\n",
    "****"
   ]
  },
  {
   "cell_type": "markdown",
   "id": "a9f2a7a5",
   "metadata": {},
   "source": [
    "### Бакетное преобразование"
   ]
  },
  {
   "cell_type": "code",
   "execution_count": 17,
   "id": "eb3f487f",
   "metadata": {},
   "outputs": [],
   "source": [
    "# функция для солёного хэширования\n",
    "import hashlib\n",
    "def ab_split(id, salt='exp_mess_1', n_groups=50):\n",
    "    test_id = str(id) + '-' + str(salt)\n",
    "    test_id_digest = hashlib.md5(test_id.encode('ascii')).hexdigest()\n",
    "    test_id_final_int = int(test_id_digest, 16)\n",
    "    return test_id_final_int % n_groups"
   ]
  },
  {
   "cell_type": "code",
   "execution_count": 18,
   "id": "c7fa5219",
   "metadata": {},
   "outputs": [
    {
     "data": {
      "text/html": [
       "<div>\n",
       "<style scoped>\n",
       "    .dataframe tbody tr th:only-of-type {\n",
       "        vertical-align: middle;\n",
       "    }\n",
       "\n",
       "    .dataframe tbody tr th {\n",
       "        vertical-align: top;\n",
       "    }\n",
       "\n",
       "    .dataframe thead th {\n",
       "        text-align: right;\n",
       "    }\n",
       "</style>\n",
       "<table border=\"1\" class=\"dataframe\">\n",
       "  <thead>\n",
       "    <tr style=\"text-align: right;\">\n",
       "      <th></th>\n",
       "      <th>hash_group</th>\n",
       "      <th>exp_group</th>\n",
       "      <th>user_id</th>\n",
       "    </tr>\n",
       "  </thead>\n",
       "  <tbody>\n",
       "    <tr>\n",
       "      <th>0</th>\n",
       "      <td>0</td>\n",
       "      <td>1</td>\n",
       "      <td>199</td>\n",
       "    </tr>\n",
       "    <tr>\n",
       "      <th>1</th>\n",
       "      <td>0</td>\n",
       "      <td>2</td>\n",
       "      <td>191</td>\n",
       "    </tr>\n",
       "    <tr>\n",
       "      <th>2</th>\n",
       "      <td>1</td>\n",
       "      <td>1</td>\n",
       "      <td>197</td>\n",
       "    </tr>\n",
       "    <tr>\n",
       "      <th>3</th>\n",
       "      <td>1</td>\n",
       "      <td>2</td>\n",
       "      <td>192</td>\n",
       "    </tr>\n",
       "    <tr>\n",
       "      <th>4</th>\n",
       "      <td>2</td>\n",
       "      <td>1</td>\n",
       "      <td>219</td>\n",
       "    </tr>\n",
       "    <tr>\n",
       "      <th>...</th>\n",
       "      <td>...</td>\n",
       "      <td>...</td>\n",
       "      <td>...</td>\n",
       "    </tr>\n",
       "    <tr>\n",
       "      <th>95</th>\n",
       "      <td>47</td>\n",
       "      <td>2</td>\n",
       "      <td>176</td>\n",
       "    </tr>\n",
       "    <tr>\n",
       "      <th>96</th>\n",
       "      <td>48</td>\n",
       "      <td>1</td>\n",
       "      <td>214</td>\n",
       "    </tr>\n",
       "    <tr>\n",
       "      <th>97</th>\n",
       "      <td>48</td>\n",
       "      <td>2</td>\n",
       "      <td>202</td>\n",
       "    </tr>\n",
       "    <tr>\n",
       "      <th>98</th>\n",
       "      <td>49</td>\n",
       "      <td>1</td>\n",
       "      <td>205</td>\n",
       "    </tr>\n",
       "    <tr>\n",
       "      <th>99</th>\n",
       "      <td>49</td>\n",
       "      <td>2</td>\n",
       "      <td>185</td>\n",
       "    </tr>\n",
       "  </tbody>\n",
       "</table>\n",
       "<p>100 rows × 3 columns</p>\n",
       "</div>"
      ],
      "text/plain": [
       "    hash_group  exp_group  user_id\n",
       "0            0          1      199\n",
       "1            0          2      191\n",
       "2            1          1      197\n",
       "3            1          2      192\n",
       "4            2          1      219\n",
       "..         ...        ...      ...\n",
       "95          47          2      176\n",
       "96          48          1      214\n",
       "97          48          2      202\n",
       "98          49          1      205\n",
       "99          49          2      185\n",
       "\n",
       "[100 rows x 3 columns]"
      ]
     },
     "execution_count": 18,
     "metadata": {},
     "output_type": "execute_result"
    }
   ],
   "source": [
    "# сформируем 50 бакетов\n",
    "df['hash_group'] = df.user_id.apply(ab_split)\n",
    "# Смотрим на число пользователей в группах\n",
    "df.groupby(['hash_group', 'exp_group']).user_id.nunique().reset_index()"
   ]
  },
  {
   "cell_type": "code",
   "execution_count": 19,
   "id": "d5d546ea",
   "metadata": {},
   "outputs": [
    {
     "data": {
      "text/html": [
       "<div>\n",
       "<style scoped>\n",
       "    .dataframe tbody tr th:only-of-type {\n",
       "        vertical-align: middle;\n",
       "    }\n",
       "\n",
       "    .dataframe tbody tr th {\n",
       "        vertical-align: top;\n",
       "    }\n",
       "\n",
       "    .dataframe thead th {\n",
       "        text-align: right;\n",
       "    }\n",
       "</style>\n",
       "<table border=\"1\" class=\"dataframe\">\n",
       "  <thead>\n",
       "    <tr style=\"text-align: right;\">\n",
       "      <th></th>\n",
       "      <th>hash_group</th>\n",
       "      <th>exp_group</th>\n",
       "      <th>likes</th>\n",
       "      <th>views</th>\n",
       "      <th>ctr</th>\n",
       "    </tr>\n",
       "  </thead>\n",
       "  <tbody>\n",
       "    <tr>\n",
       "      <th>0</th>\n",
       "      <td>0</td>\n",
       "      <td>1</td>\n",
       "      <td>2937</td>\n",
       "      <td>13646</td>\n",
       "      <td>0.215228</td>\n",
       "    </tr>\n",
       "    <tr>\n",
       "      <th>1</th>\n",
       "      <td>0</td>\n",
       "      <td>2</td>\n",
       "      <td>2368</td>\n",
       "      <td>11790</td>\n",
       "      <td>0.200848</td>\n",
       "    </tr>\n",
       "    <tr>\n",
       "      <th>2</th>\n",
       "      <td>1</td>\n",
       "      <td>1</td>\n",
       "      <td>2747</td>\n",
       "      <td>12835</td>\n",
       "      <td>0.214024</td>\n",
       "    </tr>\n",
       "    <tr>\n",
       "      <th>3</th>\n",
       "      <td>1</td>\n",
       "      <td>2</td>\n",
       "      <td>2180</td>\n",
       "      <td>12048</td>\n",
       "      <td>0.180943</td>\n",
       "    </tr>\n",
       "    <tr>\n",
       "      <th>4</th>\n",
       "      <td>2</td>\n",
       "      <td>1</td>\n",
       "      <td>3173</td>\n",
       "      <td>15106</td>\n",
       "      <td>0.210049</td>\n",
       "    </tr>\n",
       "  </tbody>\n",
       "</table>\n",
       "</div>"
      ],
      "text/plain": [
       "   hash_group  exp_group  likes  views       ctr\n",
       "0           0          1   2937  13646  0.215228\n",
       "1           0          2   2368  11790  0.200848\n",
       "2           1          1   2747  12835  0.214024\n",
       "3           1          2   2180  12048  0.180943\n",
       "4           2          1   3173  15106  0.210049"
      ]
     },
     "execution_count": 19,
     "metadata": {},
     "output_type": "execute_result"
    }
   ],
   "source": [
    "# Считаем CTR для \"метапользователей\"\n",
    "buckets = df.groupby(['hash_group', 'exp_group'], as_index = False).agg({'likes':'sum', 'views':'sum'})\n",
    "buckets['ctr'] = buckets.likes / buckets.views\n",
    "buckets.head()"
   ]
  },
  {
   "cell_type": "code",
   "execution_count": 20,
   "id": "2f1a0412",
   "metadata": {},
   "outputs": [
    {
     "data": {
      "image/png": "[encoded data removed]",
      "text/plain": [
       "<Figure size 842.4x595.44 with 1 Axes>"
      ]
     },
     "metadata": {},
     "output_type": "display_data"
    }
   ],
   "source": [
    "# Нарисуем распределение CTR в группах\n",
    "\n",
    "sns.set(rc={'figure.figsize':(11.7,8.27)})\n",
    "groups = sns.histplot(data = buckets,\n",
    "              x='ctr',\n",
    "              hue='exp_group',\n",
    "              palette = ['r', 'b'],\n",
    "              alpha=0.5,\n",
    "              kde=False,\n",
    "              bins = 25)"
   ]
  },
  {
   "cell_type": "markdown",
   "id": "2309f5a7-1c65-480d-9ef9-d69f429ac652",
   "metadata": {},
   "source": [
    "Распределения бакетных CTR отдаленно напоминают нормальное (особенно у группы 1). \n",
    "\n",
    "Сравним получившиеся группы с помощью t-теста и теста Манна-Уитни."
   ]
  },
  {
   "cell_type": "code",
   "execution_count": 21,
   "id": "92758d3c",
   "metadata": {},
   "outputs": [
    {
     "data": {
      "text/plain": [
       "Ttest_indResult(statistic=5.3626239076242905, pvalue=9.515544473482383e-07)"
      ]
     },
     "execution_count": 21,
     "metadata": {},
     "output_type": "execute_result"
    }
   ],
   "source": [
    "# применим ttest\n",
    "scipy.stats.ttest_ind(buckets[buckets.exp_group == 1].ctr,\n",
    "                buckets[buckets.exp_group == 2].ctr,\n",
    "                equal_var=False)"
   ]
  },
  {
   "cell_type": "code",
   "execution_count": 22,
   "id": "674556a1",
   "metadata": {},
   "outputs": [
    {
     "data": {
      "text/plain": [
       "MannwhitneyuResult(statistic=1923.0, pvalue=3.5505478185193758e-06)"
      ]
     },
     "execution_count": 22,
     "metadata": {},
     "output_type": "execute_result"
    }
   ],
   "source": [
    "# применим тест Манна-Уитни\n",
    "scipy.stats.mannwhitneyu(buckets[buckets.exp_group == 1].ctr,\n",
    "                buckets[buckets.exp_group == 2].ctr)"
   ]
  },
  {
   "cell_type": "markdown",
   "id": "8c6fc672",
   "metadata": {},
   "source": [
    "Оба теста демонстрируют значимые различия между бакетными CTR контрольной и тестовой групп. Гистограмма распределения этой метрики в группах подсказывает, что значимо меньше они в группе № 2 (тестовой).\n",
    "****"
   ]
  },
  {
   "cell_type": "markdown",
   "id": "6a083190-0513-448d-8922-1cbe16e2c1c4",
   "metadata": {},
   "source": [
    "### Вывод по итогам применения статистических тестов\n",
    "\n",
    "Для сравнения CTR пользователей из группы, в которой был использован новый алгоритм рекомендации постов, с контрольной  были использованы следующие методы:\n",
    "\n",
    "* t-тест;\n",
    "* t-тест на сглаженных CTR;\n",
    "* тест Манна-Уитни;\n",
    "* Пуассоновский бутстреп;\n",
    "* t-тест поверх бакетного преобразования;\n",
    "* тест Манна-Уитни поверх бакетного преобразования.\n",
    "\n",
    "Первые два метода не дали оснований для отклонения нулевой гипотезы о равенстве средних CTR в группах. Результаты остальных свидетельствуют о том, что CTR в группе 2 (тестовой) меньше, чем в группе 1 (контрольной). То, что распределение CTR во второй группе очевидно ненормально, дает нам основания относиться к результатам t-теста со скепсисом.\n",
    "\n",
    "Таким образом, мы не можем рекомендовать раскатывать новый алгоритм на всех пользователей, так как она не приводит к увеличению CTR. Более вероятно, его использование приведет к снижению значения этой метрики.\n",
    "При этом алгоритм рекомендации постов, использовавшийся в группе 2, как-будто разделил пользователей на две категории, создав на графике распределения CTR два \"горба\". У большинства пользователей CTR снизился, но одновременно с этим выделилась большая группа пользователей, у которых CTR оказался выше, чем средний в контрольной группе. В связи с этим можно предположить, что этот алгоритм может быть полезен."
   ]
  }
 ],
 "metadata": {
  "kernelspec": {
   "display_name": "Python 3 (ipykernel)",
   "language": "python",
   "name": "python3"
  },
  "language_info": {
   "codemirror_mode": {
    "name": "ipython",
    "version": 3
   },
   "file_extension": ".py",
   "mimetype": "text/x-python",
   "name": "python",
   "nbconvert_exporter": "python",
   "pygments_lexer": "ipython3",
   "version": "3.8.10"
  }
 },
 "nbformat": 4,
 "nbformat_minor": 5
}
