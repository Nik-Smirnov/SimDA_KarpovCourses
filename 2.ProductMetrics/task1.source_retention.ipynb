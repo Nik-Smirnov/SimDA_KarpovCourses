{
 "cells": [
  {
   "cell_type": "markdown",
   "id": "fdf85032-ed72-4d90-b762-4596c44035b1",
   "metadata": {},
   "source": [
    "### Задание 4.1\n",
    "\n",
    "В наших данных использования ленты новостей есть два типа юзеров: те, кто пришел через платный трафик source = 'ads', и те, кто пришел через органические каналы source = 'organic'.\n",
    "\n",
    "Необходимо проанализировать и сравнить Retention этих двух групп пользователей. Решением этой задачи будет ответ на вопрос: отличается ли характер использования приложения у этих групп пользователей. \n",
    " "
   ]
  },
  {
   "cell_type": "code",
   "execution_count": 4,
   "id": "e4e11eb1-9f47-41cc-81be-0ff2fd087dab",
   "metadata": {},
   "outputs": [
    {
     "data": {
      "text/html": [
       "<div>\n",
       "<style scoped>\n",
       "    .dataframe tbody tr th:only-of-type {\n",
       "        vertical-align: middle;\n",
       "    }\n",
       "\n",
       "    .dataframe tbody tr th {\n",
       "        vertical-align: top;\n",
       "    }\n",
       "\n",
       "    .dataframe thead th {\n",
       "        text-align: right;\n",
       "    }\n",
       "</style>\n",
       "<table border=\"1\" class=\"dataframe\">\n",
       "  <thead>\n",
       "    <tr style=\"text-align: right;\">\n",
       "      <th></th>\n",
       "      <th>first_action_day</th>\n",
       "      <th>day</th>\n",
       "      <th>number_of_day</th>\n",
       "      <th>source</th>\n",
       "      <th>users_count</th>\n",
       "    </tr>\n",
       "  </thead>\n",
       "  <tbody>\n",
       "    <tr>\n",
       "      <th>0</th>\n",
       "      <td>2023-06-03</td>\n",
       "      <td>2023-06-03</td>\n",
       "      <td>0</td>\n",
       "      <td>ads</td>\n",
       "      <td>799</td>\n",
       "    </tr>\n",
       "    <tr>\n",
       "      <th>1</th>\n",
       "      <td>2023-06-03</td>\n",
       "      <td>2023-06-03</td>\n",
       "      <td>0</td>\n",
       "      <td>organic</td>\n",
       "      <td>79</td>\n",
       "    </tr>\n",
       "    <tr>\n",
       "      <th>2</th>\n",
       "      <td>2023-06-03</td>\n",
       "      <td>2023-06-04</td>\n",
       "      <td>1</td>\n",
       "      <td>organic</td>\n",
       "      <td>40</td>\n",
       "    </tr>\n",
       "    <tr>\n",
       "      <th>3</th>\n",
       "      <td>2023-06-03</td>\n",
       "      <td>2023-06-04</td>\n",
       "      <td>1</td>\n",
       "      <td>ads</td>\n",
       "      <td>379</td>\n",
       "    </tr>\n",
       "    <tr>\n",
       "      <th>4</th>\n",
       "      <td>2023-06-03</td>\n",
       "      <td>2023-06-05</td>\n",
       "      <td>2</td>\n",
       "      <td>organic</td>\n",
       "      <td>36</td>\n",
       "    </tr>\n",
       "  </tbody>\n",
       "</table>\n",
       "</div>"
      ],
      "text/plain": [
       "  first_action_day        day  number_of_day   source  users_count\n",
       "0       2023-06-03 2023-06-03              0      ads          799\n",
       "1       2023-06-03 2023-06-03              0  organic           79\n",
       "2       2023-06-03 2023-06-04              1  organic           40\n",
       "3       2023-06-03 2023-06-04              1      ads          379\n",
       "4       2023-06-03 2023-06-05              2  organic           36"
      ]
     },
     "execution_count": 4,
     "metadata": {},
     "output_type": "execute_result"
    }
   ],
   "source": [
    "# Выгрузим необходимые данные из БД\n",
    "import pandas as pd\n",
    "import seaborn as sns\n",
    "import matplotlib.pyplot as plt\n",
    "import pandahouse\n",
    "\n",
    "connection = {'host': 'https://clickhouse.lab.karpov.courses',\n",
    "                      'database':'simulator_20230720',\n",
    "                      'user':'student', \n",
    "                      'password':'****'\n",
    "                     }\n",
    "\n",
    "query = '''\n",
    "    SELECT        \n",
    "        toDate(first_action_time) as first_action_day\n",
    "        ,toDate(time) as day\n",
    "        ,toDate(time)-toDate(first_action_time) as number_of_day\n",
    "        ,source\n",
    "        ,count(DISTINCT user_id) as users_count\n",
    "    FROM\n",
    "        (SELECT  \n",
    "            user_id\n",
    "            ,time\n",
    "            ,min(time) over(partition by user_id) as first_action_time\n",
    "            ,source\n",
    "            ,exp_group \n",
    "        FROM {db}.feed_actions\n",
    "        WHERE toDate(time) < today()) as t\n",
    "    GROUP BY\n",
    "        toDate(time)\n",
    "        ,toDate(first_action_time)\n",
    "        ,source\n",
    "'''\n",
    "\n",
    "df = pandahouse.read_clickhouse(query, connection=connection).sort_values(by = ['first_action_day', 'number_of_day']).reset_index(drop = True)\n",
    "# Проверим, загрузилось ли\n",
    "df.head()"
   ]
  },
  {
   "cell_type": "markdown",
   "id": "d53fd46e-661d-45eb-951f-a5d6602bf0d0",
   "metadata": {},
   "source": [
    "На всякий случай:\n",
    "* 'number_of_day' – это количество дней с даты первой активности (т.е. разница между колонками 'day' и 'first_action_day')\n",
    "* 'users_count' – количество пользователей"
   ]
  },
  {
   "cell_type": "code",
   "execution_count": 5,
   "id": "89921db0-33c4-45d5-afdc-433564e908b0",
   "metadata": {},
   "outputs": [
    {
     "data": {
      "text/plain": [
       "source\n",
       "ads        98017\n",
       "organic    61512\n",
       "Name: users_count, dtype: uint64"
      ]
     },
     "execution_count": 5,
     "metadata": {},
     "output_type": "execute_result"
    }
   ],
   "source": [
    "# Оценим различие в количестве пользователей по каналу их привлечения\n",
    "df[df['number_of_day'] == 0].groupby('source').users_count.sum() "
   ]
  },
  {
   "cell_type": "markdown",
   "id": "efba2b04-c60e-4a42-bff6-154497f52505",
   "metadata": {},
   "source": [
    "Из обоих источников привлечено почти одинаковое количество пользователей. \n",
    "\n",
    "***\n",
    "Ранее мы с помощью Superset построили тепловые карты, визуализирующие retention обеих групп по дням использования:\n",
    "\n",
    "![Рисунок](/Users/nikitasmirnov/SimDA_KarpovCourses/2.ProductMetrics/Retention1.png)\n",
    "\n",
    "При сравнении соответствующих друг другу столбцов и диагоналей обоих графиков создается впечатление, что retention rate у пользователей из органических каналов в основном выше, чем у тех, кто пришел из платных.\n",
    "\n",
    "Чтобы в этом убедиться, для обеих групп пользователей посчитаем *усредненный retention* каждого дня с момента начала использования ленты новостей."
   ]
  },
  {
   "cell_type": "code",
   "execution_count": 6,
   "id": "36728360-c289-4d1e-a0fc-25e0c2ca3edf",
   "metadata": {},
   "outputs": [
    {
     "data": {
      "text/html": [
       "<div>\n",
       "<style scoped>\n",
       "    .dataframe tbody tr th:only-of-type {\n",
       "        vertical-align: middle;\n",
       "    }\n",
       "\n",
       "    .dataframe tbody tr th {\n",
       "        vertical-align: top;\n",
       "    }\n",
       "\n",
       "    .dataframe thead th {\n",
       "        text-align: right;\n",
       "    }\n",
       "</style>\n",
       "<table border=\"1\" class=\"dataframe\">\n",
       "  <thead>\n",
       "    <tr style=\"text-align: right;\">\n",
       "      <th>source</th>\n",
       "      <th>ads</th>\n",
       "      <th>organic</th>\n",
       "      <th>difference</th>\n",
       "    </tr>\n",
       "    <tr>\n",
       "      <th>number_of_day</th>\n",
       "      <th></th>\n",
       "      <th></th>\n",
       "      <th></th>\n",
       "    </tr>\n",
       "  </thead>\n",
       "  <tbody>\n",
       "    <tr>\n",
       "      <th>0</th>\n",
       "      <td>100.00</td>\n",
       "      <td>100.00</td>\n",
       "      <td>0.00</td>\n",
       "    </tr>\n",
       "    <tr>\n",
       "      <th>1</th>\n",
       "      <td>36.67</td>\n",
       "      <td>43.60</td>\n",
       "      <td>6.93</td>\n",
       "    </tr>\n",
       "    <tr>\n",
       "      <th>5</th>\n",
       "      <td>28.35</td>\n",
       "      <td>35.45</td>\n",
       "      <td>7.10</td>\n",
       "    </tr>\n",
       "    <tr>\n",
       "      <th>10</th>\n",
       "      <td>19.82</td>\n",
       "      <td>26.77</td>\n",
       "      <td>6.95</td>\n",
       "    </tr>\n",
       "    <tr>\n",
       "      <th>15</th>\n",
       "      <td>13.28</td>\n",
       "      <td>19.80</td>\n",
       "      <td>6.52</td>\n",
       "    </tr>\n",
       "    <tr>\n",
       "      <th>20</th>\n",
       "      <td>9.79</td>\n",
       "      <td>15.85</td>\n",
       "      <td>6.06</td>\n",
       "    </tr>\n",
       "    <tr>\n",
       "      <th>25</th>\n",
       "      <td>7.68</td>\n",
       "      <td>14.26</td>\n",
       "      <td>6.58</td>\n",
       "    </tr>\n",
       "    <tr>\n",
       "      <th>30</th>\n",
       "      <td>7.49</td>\n",
       "      <td>14.35</td>\n",
       "      <td>6.86</td>\n",
       "    </tr>\n",
       "    <tr>\n",
       "      <th>35</th>\n",
       "      <td>7.48</td>\n",
       "      <td>14.16</td>\n",
       "      <td>6.68</td>\n",
       "    </tr>\n",
       "    <tr>\n",
       "      <th>40</th>\n",
       "      <td>7.63</td>\n",
       "      <td>14.54</td>\n",
       "      <td>6.91</td>\n",
       "    </tr>\n",
       "    <tr>\n",
       "      <th>50</th>\n",
       "      <td>7.73</td>\n",
       "      <td>14.22</td>\n",
       "      <td>6.49</td>\n",
       "    </tr>\n",
       "  </tbody>\n",
       "</table>\n",
       "</div>"
      ],
      "text/plain": [
       "source            ads  organic  difference\n",
       "number_of_day                             \n",
       "0              100.00   100.00        0.00\n",
       "1               36.67    43.60        6.93\n",
       "5               28.35    35.45        7.10\n",
       "10              19.82    26.77        6.95\n",
       "15              13.28    19.80        6.52\n",
       "20               9.79    15.85        6.06\n",
       "25               7.68    14.26        6.58\n",
       "30               7.49    14.35        6.86\n",
       "35               7.48    14.16        6.68\n",
       "40               7.63    14.54        6.91\n",
       "50               7.73    14.22        6.49"
      ]
     },
     "execution_count": 6,
     "metadata": {},
     "output_type": "execute_result"
    }
   ],
   "source": [
    "#Добавляем к выгруженным данным столбец с количеством пользователей первого дня\n",
    "source_retention = df.merge(df[df.day == df.first_action_day][['first_action_day', 'source', 'users_count']]\\\n",
    "                       .rename(columns={'users_count' : 'first_day_users'}), on = ['first_action_day', 'source'])\n",
    "\n",
    "# Суммируем users_count и first_day_users по номеру дня и источнику трафика\n",
    "source_retention = source_retention.groupby(['source', 'number_of_day'], as_index = False).agg({'users_count':'sum', 'first_day_users':'sum'})\n",
    "\n",
    "#Добавляем столбец c retention rate\n",
    "source_retention['retention'] = round(source_retention['users_count']/source_retention['first_day_users'] * 100, 2)\n",
    "\n",
    "#Создадим сводную таблицу для удобства\n",
    "pivoted_source_retention = source_retention.pivot(index = 'number_of_day', columns = 'source', values=['retention'])['retention']\n",
    "pivoted_source_retention['difference'] = pivoted_source_retention['organic'] - pivoted_source_retention['ads']\n",
    "#Посмотрим на некоторые дни\n",
    "pivoted_source_retention.iloc[[0, 1, 5, 10, 15, 20, 25, 30, 35, 40, 50]]"
   ]
  },
  {
   "cell_type": "code",
   "execution_count": 7,
   "id": "ad9c4ce9-ebf1-40f3-a77b-e5b98ddfd7d2",
   "metadata": {},
   "outputs": [
    {
     "name": "stdout",
     "output_type": "stream",
     "text": [
      "В среднем retention у пользователей из органических каналов выше на 6.62 процентных пункта\n"
     ]
    }
   ],
   "source": [
    "print(f'В среднем retention у пользователей из органических каналов выше на {round(pivoted_source_retention.difference.mean(), 2)} процентных пункта')"
   ]
  },
  {
   "cell_type": "code",
   "execution_count": 8,
   "id": "3080a696-3cb8-4788-9515-f98fc59c5e40",
   "metadata": {},
   "outputs": [
    {
     "data": {
      "image/png": "[encoded data removed]",
      "text/plain": [
       "<Figure size 1152x648 with 1 Axes>"
      ]
     },
     "metadata": {},
     "output_type": "display_data"
    }
   ],
   "source": [
    "# Визуализируем для наглядности\n",
    "\n",
    "sns.set(rc = {'figure.figsize':(16, 9)})\n",
    "\n",
    "ax = sns.lineplot(\n",
    "    data=source_retention,\n",
    "    y=\"retention\", x=\"number_of_day\",\n",
    "    hue=\"source\")\n"
   ]
  },
  {
   "cell_type": "markdown",
   "id": "3fdd939b-58ec-46d4-be6f-79c6c88489cb",
   "metadata": {},
   "source": [
    "#### Выводы\n",
    "\n",
    "1) Пользователи из платных каналов привлечения в меньшей степени склонны продолжать использовать ленту новостей нашего сервиса. Их retention rate в среднем существенно ниже для каждого дня, следующего за первым посещением ленты, чем у тех, кто пришел из органических каналов. \n",
    "\n",
    ">Исключением может быть retention последнего дня, который рассчитывается на основе количества пользователей самого первого дня существования продукта, когда из органических каналов пришли лишь 79 пользователей, в связи с чем это значение сильно \"шумит\".\n",
    "\n",
    "2) Спустя примерно 25 дней с первого посещения ленты новостей retention rate обеих групп перестает значительно изменяться. У пользователей из органических каналов он фиксируется на уровне около 14%, а из платных – 8%.\n",
    "\n",
    "***"
   ]
  }
 ],
 "metadata": {
  "kernelspec": {
   "display_name": "Python 3 (ipykernel)",
   "language": "python",
   "name": "python3"
  },
  "language_info": {
   "codemirror_mode": {
    "name": "ipython",
    "version": 3
   },
   "file_extension": ".py",
   "mimetype": "text/x-python",
   "name": "python",
   "nbconvert_exporter": "python",
   "pygments_lexer": "ipython3",
   "version": "3.9.7"
  }
 },
 "nbformat": 4,
 "nbformat_minor": 5
}
